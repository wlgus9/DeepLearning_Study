{
  "nbformat": 4,
  "nbformat_minor": 0,
  "metadata": {
    "colab": {
      "name": "1장. 워드 임베딩.ipynb",
      "provenance": [],
      "collapsed_sections": [],
      "authorship_tag": "ABX9TyOeuAZ9pvaSPW1u3Swjsm9X",
      "include_colab_link": true
    },
    "kernelspec": {
      "name": "python3",
      "display_name": "Python 3"
    },
    "language_info": {
      "name": "python"
    }
  },
  "cells": [
    {
      "cell_type": "markdown",
      "metadata": {
        "id": "view-in-github",
        "colab_type": "text"
      },
      "source": [
        "<a href=\"https://colab.research.google.com/github/wlgus9/DeepLearning_Study/blob/main/1%EC%9E%A5_%EC%9B%8C%EB%93%9C_%EC%9E%84%EB%B2%A0%EB%94%A9.ipynb\" target=\"_parent\"><img src=\"https://colab.research.google.com/assets/colab-badge.svg\" alt=\"Open In Colab\"/></a>"
      ]
    },
    {
      "cell_type": "markdown",
      "source": [
        "# TF"
      ],
      "metadata": {
        "id": "QO5JDvfzYWZB"
      }
    },
    {
      "cell_type": "markdown",
      "source": [
        "Term Frequency  \n",
        "문서에서 용어가 나타나는 총 횟수"
      ],
      "metadata": {
        "id": "JVnGdmRcYY9r"
      }
    },
    {
      "cell_type": "code",
      "execution_count": null,
      "metadata": {
        "id": "Duhrv6dnK6Tp"
      },
      "outputs": [],
      "source": [
        "text = \"John likes to watch movies. Mary likes movies too.\\\n",
        "        Mary also likes to watch football games.\""
      ]
    },
    {
      "cell_type": "code",
      "source": [
        "words = text.replace('.', '').split()\n",
        "print(words)"
      ],
      "metadata": {
        "colab": {
          "base_uri": "https://localhost:8080/"
        },
        "id": "jENXaVT9LHxd",
        "outputId": "4421bf25-25db-4039-dc70-935db3f12045"
      },
      "execution_count": null,
      "outputs": [
        {
          "output_type": "stream",
          "name": "stdout",
          "text": [
            "['John', 'likes', 'to', 'watch', 'movies', 'Mary', 'likes', 'movies', 'too', 'Mary', 'also', 'likes', 'to', 'watch', 'football', 'games']\n"
          ]
        }
      ]
    },
    {
      "cell_type": "code",
      "source": [
        "import numpy as np\n",
        "word_count = np.unique(words, return_counts=True)\n",
        "print(word_count)"
      ],
      "metadata": {
        "colab": {
          "base_uri": "https://localhost:8080/"
        },
        "id": "Ggd7YKSRLNEu",
        "outputId": "93517d84-1e77-47ca-bbf6-417e46d8bf98"
      },
      "execution_count": null,
      "outputs": [
        {
          "output_type": "stream",
          "name": "stdout",
          "text": [
            "(array(['John', 'Mary', 'also', 'football', 'games', 'likes', 'movies',\n",
            "       'to', 'too', 'watch'], dtype='<U8'), array([1, 2, 1, 1, 1, 3, 2, 2, 1, 2]))\n"
          ]
        }
      ]
    },
    {
      "cell_type": "code",
      "source": [
        "word_to_cnt = {}\n",
        "for word, cnt in zip(*word_count):\n",
        "    word_to_cnt[word] = cnt\n",
        "print(word_to_cnt)"
      ],
      "metadata": {
        "colab": {
          "base_uri": "https://localhost:8080/"
        },
        "id": "jHk1S2v0LUZ1",
        "outputId": "c567df2a-d6c2-4b64-fa8f-6b206d9b3f60"
      },
      "execution_count": null,
      "outputs": [
        {
          "output_type": "stream",
          "name": "stdout",
          "text": [
            "{'John': 1, 'Mary': 2, 'also': 1, 'football': 1, 'games': 1, 'likes': 3, 'movies': 2, 'to': 2, 'too': 1, 'watch': 2}\n"
          ]
        }
      ]
    },
    {
      "cell_type": "markdown",
      "source": [
        "# TDM"
      ],
      "metadata": {
        "id": "LIWSmH-rYsSy"
      }
    },
    {
      "cell_type": "markdown",
      "source": [
        "Term Document Matrix  \n",
        "문서별로 단어의 빈도수 계산 후 행렬 생성"
      ],
      "metadata": {
        "id": "R6d6x3M_YvMj"
      }
    },
    {
      "cell_type": "code",
      "source": [
        "corpus = [\"John likes to watch movies. Mary likes movies too.\\\n",
        "           Mary also likes to watch football games.\"]"
      ],
      "metadata": {
        "id": "KtHz_MUXLd99"
      },
      "execution_count": null,
      "outputs": []
    },
    {
      "cell_type": "code",
      "source": [
        "from sklearn.feature_extraction.text import CountVectorizer\n",
        "vector = CountVectorizer()\n",
        "tdm_array = vector.fit_transform(corpus).toarray()\n",
        "tf_dic = vector.vocabulary_\n",
        "print(tdm_array)\n",
        "print(tf_dic)"
      ],
      "metadata": {
        "colab": {
          "base_uri": "https://localhost:8080/"
        },
        "id": "uXJbHrryLjrF",
        "outputId": "6fa8809f-597d-4927-a8eb-a3657451b3a8"
      },
      "execution_count": null,
      "outputs": [
        {
          "output_type": "stream",
          "name": "stdout",
          "text": [
            "[[1 1 1 1 3 2 2 2 1 2]]\n",
            "{'john': 3, 'likes': 4, 'to': 7, 'watch': 9, 'movies': 6, 'mary': 5, 'too': 8, 'also': 0, 'football': 1, 'games': 2}\n"
          ]
        }
      ]
    },
    {
      "cell_type": "code",
      "source": [
        "import pandas as pd\n",
        "tf_dic_sorted = dict(sorted(tf_dic.items(),\n",
        "                            key = lambda  item : item[1]))\n",
        "tdm = pd.DataFrame(tdm_array, columns=tf_dic_sorted.keys())\n",
        "print(tdm)"
      ],
      "metadata": {
        "colab": {
          "base_uri": "https://localhost:8080/"
        },
        "id": "bKzg7BPQL4MX",
        "outputId": "59414c2e-d4ee-4e27-c743-0b7a53c5882b"
      },
      "execution_count": null,
      "outputs": [
        {
          "output_type": "stream",
          "name": "stdout",
          "text": [
            "   also  football  games  john  likes  mary  movies  to  too  watch\n",
            "0     1         1      1     1      3     2       2   2    1      2\n"
          ]
        }
      ]
    },
    {
      "cell_type": "markdown",
      "source": [
        "# TF-IDF"
      ],
      "metadata": {
        "id": "j02uSpO1ZfBq"
      }
    },
    {
      "cell_type": "markdown",
      "source": [
        "Term Frequency - Inverse Document Frequency  \n",
        "* TF  : 문서에서 해당 용어가 발생한 횟수 / 총 용어 수  \n",
        "* IDF : 전체 문서에서 용어가 얼마나 자주 발생하는지 정의, 가중치 균형을 맞추기 위해 사용 "
      ],
      "metadata": {
        "id": "lF2itOLhZiMa"
      }
    },
    {
      "cell_type": "code",
      "source": [
        "from sklearn.feature_extraction.text import TfidfVectorizer\n",
        "\n",
        "tfidf_vec = TfidfVectorizer()\n",
        "tfidf_array = tfidf_vec.fit_transform(corpus).toarray()\n",
        "tfidf_dic = tfidf_vec.vocabulary_\n",
        "tfidf_dic_sorted = dict(sorted(tfidf_dic.items(), \n",
        "                        key=lambda item: item[1]))\n",
        "tfidf_tdm = pd.DataFrame(tfidf_array, \n",
        "                         columns=tfidf_dic.keys())\n",
        "print(tfidf_tdm)"
      ],
      "metadata": {
        "colab": {
          "base_uri": "https://localhost:8080/"
        },
        "id": "eFikelr4MLNI",
        "outputId": "d6a6bebd-58cb-4871-f96a-2a3e139d61e9"
      },
      "execution_count": null,
      "outputs": [
        {
          "output_type": "stream",
          "name": "stdout",
          "text": [
            "       john     likes        to  ...      also  football     games\n",
            "0  0.182574  0.182574  0.182574  ...  0.365148  0.182574  0.365148\n",
            "\n",
            "[1 rows x 10 columns]\n"
          ]
        }
      ]
    },
    {
      "cell_type": "markdown",
      "source": [
        "# Word2Vec"
      ],
      "metadata": {
        "id": "Vee5wqI-aJVu"
      }
    },
    {
      "cell_type": "markdown",
      "source": [
        "* 단어를 벡터 형식으로 변환하는 도구  \n",
        "* 워드 임베딩 모델을 생성하는 데 사용되는 얕은 2계층 신경망"
      ],
      "metadata": {
        "id": "rI-DDApLMbut"
      }
    },
    {
      "cell_type": "markdown",
      "source": [
        "CBOW : 주변 단어 임베딩 -> **중심 단어 예측**  \n",
        "    * 빠르고 적은 RAM 필요, 하지만 빈도수가 낮은 단어의 처리를 보장하지 않음  \n",
        "      \n",
        "Skip-gram : 중심 단어 임베딩 --> **주변 단어 예측**  \n",
        "    * 빈도수가 낮은 단어에 더 정확"
      ],
      "metadata": {
        "id": "1TOKhmBSaZOs"
      }
    },
    {
      "cell_type": "markdown",
      "source": [
        "#gensim"
      ],
      "metadata": {
        "id": "_tZRkePEatuD"
      }
    },
    {
      "cell_type": "code",
      "source": [
        "corpus = [\"John likes to watch movies. Mary likes movies too.\\\n",
        "           Mary also likes to watch football games.\"]\n",
        "\n",
        "word_list = []\n",
        "for word in corpus:\n",
        "    word_list.append(word.replace('.', '').split())\n",
        "\n",
        "from gensim.models import Word2Vec\n",
        "model = Word2Vec(word_list, sg=0, size=100,\n",
        "                 window=3, min_count=1)\n",
        "print(model.wv.most_similar('likes'))\n",
        "print(model.wv.similarity('movies', 'games'))"
      ],
      "metadata": {
        "colab": {
          "base_uri": "https://localhost:8080/"
        },
        "id": "ZjU9lP9tbaNo",
        "outputId": "905d9c9b-5189-42a5-fdd2-29ea1f975fa6"
      },
      "execution_count": null,
      "outputs": [
        {
          "output_type": "stream",
          "name": "stdout",
          "text": [
            "[('to', 0.10495354980230331), ('too', 0.05770162492990494), ('games', 0.02830357663333416), ('football', -0.03861209750175476), ('Mary', -0.048340849578380585), ('also', -0.08258099108934402), ('watch', -0.1305607557296753), ('movies', -0.14066770672798157), ('John', -0.14524194598197937)]\n",
            "0.025130626\n"
          ]
        }
      ]
    },
    {
      "cell_type": "markdown",
      "source": [
        "#Pre-trained 모델"
      ],
      "metadata": {
        "id": "fioo-QApb8NK"
      }
    },
    {
      "cell_type": "markdown",
      "source": [
        "대용량 코퍼스 데이터를 이용해서 사전에 학습된 모델"
      ],
      "metadata": {
        "id": "uAn_J2fwcB9J"
      }
    },
    {
      "cell_type": "code",
      "source": [
        "model = Word2Vec.load('ko.bin')\n",
        "print(model.wv.most_similar('인공지능'))"
      ],
      "metadata": {
        "colab": {
          "base_uri": "https://localhost:8080/"
        },
        "id": "fuHq392KcHky",
        "outputId": "76030ac3-e6d3-4668-8841-9e82843366c8"
      },
      "execution_count": null,
      "outputs": [
        {
          "output_type": "stream",
          "name": "stdout",
          "text": [
            "[('컴퓨팅', 0.6520194411277771), ('가상현실', 0.6393702030181885), ('심리학', 0.63037109375), ('모델링', 0.625065267086029), ('신경망', 0.6200424432754517), ('로봇', 0.6109743118286133), ('시뮬레이션', 0.6101070642471313), ('지능', 0.6092983484268188), ('기술', 0.6087720990180969), ('기술인', 0.5957075953483582)]\n"
          ]
        }
      ]
    },
    {
      "cell_type": "code",
      "source": [
        ""
      ],
      "metadata": {
        "id": "6Zi5moRDcP75"
      },
      "execution_count": null,
      "outputs": []
    }
  ]
}