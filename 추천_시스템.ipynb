{
  "nbformat": 4,
  "nbformat_minor": 0,
  "metadata": {
    "colab": {
      "name": "추천 시스템.ipynb",
      "provenance": [],
      "collapsed_sections": [],
      "toc_visible": true,
      "mount_file_id": "1sinKVx-qBkymkHhevLPj-1UprLlfsIKN",
      "authorship_tag": "ABX9TyOy5aSliBMS4MyJfyX+r2Tm",
      "include_colab_link": true
    },
    "kernelspec": {
      "name": "python3",
      "display_name": "Python 3"
    },
    "language_info": {
      "name": "python"
    }
  },
  "cells": [
    {
      "cell_type": "markdown",
      "metadata": {
        "id": "view-in-github",
        "colab_type": "text"
      },
      "source": [
        "<a href=\"https://colab.research.google.com/github/wlgus9/DeepLearning_Study/blob/main/%EC%B6%94%EC%B2%9C_%EC%8B%9C%EC%8A%A4%ED%85%9C.ipynb\" target=\"_parent\"><img src=\"https://colab.research.google.com/assets/colab-badge.svg\" alt=\"Open In Colab\"/></a>"
      ]
    },
    {
      "cell_type": "markdown",
      "source": [
        "# 2장. 기본적인 추천 시스템"
      ],
      "metadata": {
        "id": "ZD0Orp_JCFx7"
      }
    },
    {
      "cell_type": "markdown",
      "source": [
        "## 데이터 불러오기"
      ],
      "metadata": {
        "id": "82bV7eU4IK88"
      }
    },
    {
      "cell_type": "code",
      "source": [
        "import pandas as pd\n",
        "\n",
        "u_cols = ['user_id', 'age', 'sex', 'occupation', 'zip_code']\n",
        "users = pd.read_csv('u.user', sep='|', names=u_cols, encoding='latin-1')\n",
        "users = users.set_index('user_id')\n",
        "users.head()"
      ],
      "metadata": {
        "colab": {
          "base_uri": "https://localhost:8080/",
          "height": 238
        },
        "id": "R847qIySBWec",
        "outputId": "adc0c9fd-776e-4d90-bacc-8104063852d9"
      },
      "execution_count": null,
      "outputs": [
        {
          "output_type": "execute_result",
          "data": {
            "text/html": [
              "\n",
              "  <div id=\"df-038ab1ec-6a4f-408b-b3cb-be75aaa6e0c7\">\n",
              "    <div class=\"colab-df-container\">\n",
              "      <div>\n",
              "<style scoped>\n",
              "    .dataframe tbody tr th:only-of-type {\n",
              "        vertical-align: middle;\n",
              "    }\n",
              "\n",
              "    .dataframe tbody tr th {\n",
              "        vertical-align: top;\n",
              "    }\n",
              "\n",
              "    .dataframe thead th {\n",
              "        text-align: right;\n",
              "    }\n",
              "</style>\n",
              "<table border=\"1\" class=\"dataframe\">\n",
              "  <thead>\n",
              "    <tr style=\"text-align: right;\">\n",
              "      <th></th>\n",
              "      <th>age</th>\n",
              "      <th>sex</th>\n",
              "      <th>occupation</th>\n",
              "      <th>zip_code</th>\n",
              "    </tr>\n",
              "    <tr>\n",
              "      <th>user_id</th>\n",
              "      <th></th>\n",
              "      <th></th>\n",
              "      <th></th>\n",
              "      <th></th>\n",
              "    </tr>\n",
              "  </thead>\n",
              "  <tbody>\n",
              "    <tr>\n",
              "      <th>1</th>\n",
              "      <td>24</td>\n",
              "      <td>M</td>\n",
              "      <td>technician</td>\n",
              "      <td>85711</td>\n",
              "    </tr>\n",
              "    <tr>\n",
              "      <th>2</th>\n",
              "      <td>53</td>\n",
              "      <td>F</td>\n",
              "      <td>other</td>\n",
              "      <td>94043</td>\n",
              "    </tr>\n",
              "    <tr>\n",
              "      <th>3</th>\n",
              "      <td>23</td>\n",
              "      <td>M</td>\n",
              "      <td>writer</td>\n",
              "      <td>32067</td>\n",
              "    </tr>\n",
              "    <tr>\n",
              "      <th>4</th>\n",
              "      <td>24</td>\n",
              "      <td>M</td>\n",
              "      <td>technician</td>\n",
              "      <td>43537</td>\n",
              "    </tr>\n",
              "    <tr>\n",
              "      <th>5</th>\n",
              "      <td>33</td>\n",
              "      <td>F</td>\n",
              "      <td>other</td>\n",
              "      <td>15213</td>\n",
              "    </tr>\n",
              "  </tbody>\n",
              "</table>\n",
              "</div>\n",
              "      <button class=\"colab-df-convert\" onclick=\"convertToInteractive('df-038ab1ec-6a4f-408b-b3cb-be75aaa6e0c7')\"\n",
              "              title=\"Convert this dataframe to an interactive table.\"\n",
              "              style=\"display:none;\">\n",
              "        \n",
              "  <svg xmlns=\"http://www.w3.org/2000/svg\" height=\"24px\"viewBox=\"0 0 24 24\"\n",
              "       width=\"24px\">\n",
              "    <path d=\"M0 0h24v24H0V0z\" fill=\"none\"/>\n",
              "    <path d=\"M18.56 5.44l.94 2.06.94-2.06 2.06-.94-2.06-.94-.94-2.06-.94 2.06-2.06.94zm-11 1L8.5 8.5l.94-2.06 2.06-.94-2.06-.94L8.5 2.5l-.94 2.06-2.06.94zm10 10l.94 2.06.94-2.06 2.06-.94-2.06-.94-.94-2.06-.94 2.06-2.06.94z\"/><path d=\"M17.41 7.96l-1.37-1.37c-.4-.4-.92-.59-1.43-.59-.52 0-1.04.2-1.43.59L10.3 9.45l-7.72 7.72c-.78.78-.78 2.05 0 2.83L4 21.41c.39.39.9.59 1.41.59.51 0 1.02-.2 1.41-.59l7.78-7.78 2.81-2.81c.8-.78.8-2.07 0-2.86zM5.41 20L4 18.59l7.72-7.72 1.47 1.35L5.41 20z\"/>\n",
              "  </svg>\n",
              "      </button>\n",
              "      \n",
              "  <style>\n",
              "    .colab-df-container {\n",
              "      display:flex;\n",
              "      flex-wrap:wrap;\n",
              "      gap: 12px;\n",
              "    }\n",
              "\n",
              "    .colab-df-convert {\n",
              "      background-color: #E8F0FE;\n",
              "      border: none;\n",
              "      border-radius: 50%;\n",
              "      cursor: pointer;\n",
              "      display: none;\n",
              "      fill: #1967D2;\n",
              "      height: 32px;\n",
              "      padding: 0 0 0 0;\n",
              "      width: 32px;\n",
              "    }\n",
              "\n",
              "    .colab-df-convert:hover {\n",
              "      background-color: #E2EBFA;\n",
              "      box-shadow: 0px 1px 2px rgba(60, 64, 67, 0.3), 0px 1px 3px 1px rgba(60, 64, 67, 0.15);\n",
              "      fill: #174EA6;\n",
              "    }\n",
              "\n",
              "    [theme=dark] .colab-df-convert {\n",
              "      background-color: #3B4455;\n",
              "      fill: #D2E3FC;\n",
              "    }\n",
              "\n",
              "    [theme=dark] .colab-df-convert:hover {\n",
              "      background-color: #434B5C;\n",
              "      box-shadow: 0px 1px 3px 1px rgba(0, 0, 0, 0.15);\n",
              "      filter: drop-shadow(0px 1px 2px rgba(0, 0, 0, 0.3));\n",
              "      fill: #FFFFFF;\n",
              "    }\n",
              "  </style>\n",
              "\n",
              "      <script>\n",
              "        const buttonEl =\n",
              "          document.querySelector('#df-038ab1ec-6a4f-408b-b3cb-be75aaa6e0c7 button.colab-df-convert');\n",
              "        buttonEl.style.display =\n",
              "          google.colab.kernel.accessAllowed ? 'block' : 'none';\n",
              "\n",
              "        async function convertToInteractive(key) {\n",
              "          const element = document.querySelector('#df-038ab1ec-6a4f-408b-b3cb-be75aaa6e0c7');\n",
              "          const dataTable =\n",
              "            await google.colab.kernel.invokeFunction('convertToInteractive',\n",
              "                                                     [key], {});\n",
              "          if (!dataTable) return;\n",
              "\n",
              "          const docLinkHtml = 'Like what you see? Visit the ' +\n",
              "            '<a target=\"_blank\" href=https://colab.research.google.com/notebooks/data_table.ipynb>data table notebook</a>'\n",
              "            + ' to learn more about interactive tables.';\n",
              "          element.innerHTML = '';\n",
              "          dataTable['output_type'] = 'display_data';\n",
              "          await google.colab.output.renderOutput(dataTable, element);\n",
              "          const docLink = document.createElement('div');\n",
              "          docLink.innerHTML = docLinkHtml;\n",
              "          element.appendChild(docLink);\n",
              "        }\n",
              "      </script>\n",
              "    </div>\n",
              "  </div>\n",
              "  "
            ],
            "text/plain": [
              "         age sex  occupation zip_code\n",
              "user_id                              \n",
              "1         24   M  technician    85711\n",
              "2         53   F       other    94043\n",
              "3         23   M      writer    32067\n",
              "4         24   M  technician    43537\n",
              "5         33   F       other    15213"
            ]
          },
          "metadata": {},
          "execution_count": 1
        }
      ]
    },
    {
      "cell_type": "code",
      "source": [
        "i_cols = ['movie_id', 'title', 'release_date', 'video_release_date', 'IMDB_URL',\n",
        "          'unknown', 'Action', 'Adventure', 'Animation', 'Children\\s', 'Comedy',\n",
        "          'Crime', 'Documentary', 'Drama', 'Fantasy', 'Film-Noir', 'Horror',\n",
        "          'Musical', 'Mystery', 'Romance', 'Sci-Fi', 'Thriller', 'War', 'Western']\n",
        "movies = pd.read_csv('u.item', sep='|', names=i_cols, encoding='latin-1') \n",
        "movies = movies.set_index('movie_id')         \n",
        "movies.head()"
      ],
      "metadata": {
        "colab": {
          "base_uri": "https://localhost:8080/",
          "height": 440
        },
        "id": "ICaJ1DZ4DxWl",
        "outputId": "da0ab44d-8eeb-4867-efd2-7985ab4ebbf1"
      },
      "execution_count": null,
      "outputs": [
        {
          "output_type": "execute_result",
          "data": {
            "text/html": [
              "\n",
              "  <div id=\"df-acc98572-27c8-4854-ba75-be4113522723\">\n",
              "    <div class=\"colab-df-container\">\n",
              "      <div>\n",
              "<style scoped>\n",
              "    .dataframe tbody tr th:only-of-type {\n",
              "        vertical-align: middle;\n",
              "    }\n",
              "\n",
              "    .dataframe tbody tr th {\n",
              "        vertical-align: top;\n",
              "    }\n",
              "\n",
              "    .dataframe thead th {\n",
              "        text-align: right;\n",
              "    }\n",
              "</style>\n",
              "<table border=\"1\" class=\"dataframe\">\n",
              "  <thead>\n",
              "    <tr style=\"text-align: right;\">\n",
              "      <th></th>\n",
              "      <th>title</th>\n",
              "      <th>release_date</th>\n",
              "      <th>video_release_date</th>\n",
              "      <th>IMDB_URL</th>\n",
              "      <th>unknown</th>\n",
              "      <th>Action</th>\n",
              "      <th>Adventure</th>\n",
              "      <th>Animation</th>\n",
              "      <th>Children\\s</th>\n",
              "      <th>Comedy</th>\n",
              "      <th>Crime</th>\n",
              "      <th>Documentary</th>\n",
              "      <th>Drama</th>\n",
              "      <th>Fantasy</th>\n",
              "      <th>Film-Noir</th>\n",
              "      <th>Horror</th>\n",
              "      <th>Musical</th>\n",
              "      <th>Mystery</th>\n",
              "      <th>Romance</th>\n",
              "      <th>Sci-Fi</th>\n",
              "      <th>Thriller</th>\n",
              "      <th>War</th>\n",
              "      <th>Western</th>\n",
              "    </tr>\n",
              "    <tr>\n",
              "      <th>movie_id</th>\n",
              "      <th></th>\n",
              "      <th></th>\n",
              "      <th></th>\n",
              "      <th></th>\n",
              "      <th></th>\n",
              "      <th></th>\n",
              "      <th></th>\n",
              "      <th></th>\n",
              "      <th></th>\n",
              "      <th></th>\n",
              "      <th></th>\n",
              "      <th></th>\n",
              "      <th></th>\n",
              "      <th></th>\n",
              "      <th></th>\n",
              "      <th></th>\n",
              "      <th></th>\n",
              "      <th></th>\n",
              "      <th></th>\n",
              "      <th></th>\n",
              "      <th></th>\n",
              "      <th></th>\n",
              "      <th></th>\n",
              "    </tr>\n",
              "  </thead>\n",
              "  <tbody>\n",
              "    <tr>\n",
              "      <th>1</th>\n",
              "      <td>Toy Story (1995)</td>\n",
              "      <td>01-Jan-1995</td>\n",
              "      <td>NaN</td>\n",
              "      <td>http://us.imdb.com/M/title-exact?Toy%20Story%2...</td>\n",
              "      <td>0</td>\n",
              "      <td>0</td>\n",
              "      <td>0</td>\n",
              "      <td>1</td>\n",
              "      <td>1</td>\n",
              "      <td>1</td>\n",
              "      <td>0</td>\n",
              "      <td>0</td>\n",
              "      <td>0</td>\n",
              "      <td>0</td>\n",
              "      <td>0</td>\n",
              "      <td>0</td>\n",
              "      <td>0</td>\n",
              "      <td>0</td>\n",
              "      <td>0</td>\n",
              "      <td>0</td>\n",
              "      <td>0</td>\n",
              "      <td>0</td>\n",
              "      <td>0</td>\n",
              "    </tr>\n",
              "    <tr>\n",
              "      <th>2</th>\n",
              "      <td>GoldenEye (1995)</td>\n",
              "      <td>01-Jan-1995</td>\n",
              "      <td>NaN</td>\n",
              "      <td>http://us.imdb.com/M/title-exact?GoldenEye%20(...</td>\n",
              "      <td>0</td>\n",
              "      <td>1</td>\n",
              "      <td>1</td>\n",
              "      <td>0</td>\n",
              "      <td>0</td>\n",
              "      <td>0</td>\n",
              "      <td>0</td>\n",
              "      <td>0</td>\n",
              "      <td>0</td>\n",
              "      <td>0</td>\n",
              "      <td>0</td>\n",
              "      <td>0</td>\n",
              "      <td>0</td>\n",
              "      <td>0</td>\n",
              "      <td>0</td>\n",
              "      <td>0</td>\n",
              "      <td>1</td>\n",
              "      <td>0</td>\n",
              "      <td>0</td>\n",
              "    </tr>\n",
              "    <tr>\n",
              "      <th>3</th>\n",
              "      <td>Four Rooms (1995)</td>\n",
              "      <td>01-Jan-1995</td>\n",
              "      <td>NaN</td>\n",
              "      <td>http://us.imdb.com/M/title-exact?Four%20Rooms%...</td>\n",
              "      <td>0</td>\n",
              "      <td>0</td>\n",
              "      <td>0</td>\n",
              "      <td>0</td>\n",
              "      <td>0</td>\n",
              "      <td>0</td>\n",
              "      <td>0</td>\n",
              "      <td>0</td>\n",
              "      <td>0</td>\n",
              "      <td>0</td>\n",
              "      <td>0</td>\n",
              "      <td>0</td>\n",
              "      <td>0</td>\n",
              "      <td>0</td>\n",
              "      <td>0</td>\n",
              "      <td>0</td>\n",
              "      <td>1</td>\n",
              "      <td>0</td>\n",
              "      <td>0</td>\n",
              "    </tr>\n",
              "    <tr>\n",
              "      <th>4</th>\n",
              "      <td>Get Shorty (1995)</td>\n",
              "      <td>01-Jan-1995</td>\n",
              "      <td>NaN</td>\n",
              "      <td>http://us.imdb.com/M/title-exact?Get%20Shorty%...</td>\n",
              "      <td>0</td>\n",
              "      <td>1</td>\n",
              "      <td>0</td>\n",
              "      <td>0</td>\n",
              "      <td>0</td>\n",
              "      <td>1</td>\n",
              "      <td>0</td>\n",
              "      <td>0</td>\n",
              "      <td>1</td>\n",
              "      <td>0</td>\n",
              "      <td>0</td>\n",
              "      <td>0</td>\n",
              "      <td>0</td>\n",
              "      <td>0</td>\n",
              "      <td>0</td>\n",
              "      <td>0</td>\n",
              "      <td>0</td>\n",
              "      <td>0</td>\n",
              "      <td>0</td>\n",
              "    </tr>\n",
              "    <tr>\n",
              "      <th>5</th>\n",
              "      <td>Copycat (1995)</td>\n",
              "      <td>01-Jan-1995</td>\n",
              "      <td>NaN</td>\n",
              "      <td>http://us.imdb.com/M/title-exact?Copycat%20(1995)</td>\n",
              "      <td>0</td>\n",
              "      <td>0</td>\n",
              "      <td>0</td>\n",
              "      <td>0</td>\n",
              "      <td>0</td>\n",
              "      <td>0</td>\n",
              "      <td>1</td>\n",
              "      <td>0</td>\n",
              "      <td>1</td>\n",
              "      <td>0</td>\n",
              "      <td>0</td>\n",
              "      <td>0</td>\n",
              "      <td>0</td>\n",
              "      <td>0</td>\n",
              "      <td>0</td>\n",
              "      <td>0</td>\n",
              "      <td>1</td>\n",
              "      <td>0</td>\n",
              "      <td>0</td>\n",
              "    </tr>\n",
              "  </tbody>\n",
              "</table>\n",
              "</div>\n",
              "      <button class=\"colab-df-convert\" onclick=\"convertToInteractive('df-acc98572-27c8-4854-ba75-be4113522723')\"\n",
              "              title=\"Convert this dataframe to an interactive table.\"\n",
              "              style=\"display:none;\">\n",
              "        \n",
              "  <svg xmlns=\"http://www.w3.org/2000/svg\" height=\"24px\"viewBox=\"0 0 24 24\"\n",
              "       width=\"24px\">\n",
              "    <path d=\"M0 0h24v24H0V0z\" fill=\"none\"/>\n",
              "    <path d=\"M18.56 5.44l.94 2.06.94-2.06 2.06-.94-2.06-.94-.94-2.06-.94 2.06-2.06.94zm-11 1L8.5 8.5l.94-2.06 2.06-.94-2.06-.94L8.5 2.5l-.94 2.06-2.06.94zm10 10l.94 2.06.94-2.06 2.06-.94-2.06-.94-.94-2.06-.94 2.06-2.06.94z\"/><path d=\"M17.41 7.96l-1.37-1.37c-.4-.4-.92-.59-1.43-.59-.52 0-1.04.2-1.43.59L10.3 9.45l-7.72 7.72c-.78.78-.78 2.05 0 2.83L4 21.41c.39.39.9.59 1.41.59.51 0 1.02-.2 1.41-.59l7.78-7.78 2.81-2.81c.8-.78.8-2.07 0-2.86zM5.41 20L4 18.59l7.72-7.72 1.47 1.35L5.41 20z\"/>\n",
              "  </svg>\n",
              "      </button>\n",
              "      \n",
              "  <style>\n",
              "    .colab-df-container {\n",
              "      display:flex;\n",
              "      flex-wrap:wrap;\n",
              "      gap: 12px;\n",
              "    }\n",
              "\n",
              "    .colab-df-convert {\n",
              "      background-color: #E8F0FE;\n",
              "      border: none;\n",
              "      border-radius: 50%;\n",
              "      cursor: pointer;\n",
              "      display: none;\n",
              "      fill: #1967D2;\n",
              "      height: 32px;\n",
              "      padding: 0 0 0 0;\n",
              "      width: 32px;\n",
              "    }\n",
              "\n",
              "    .colab-df-convert:hover {\n",
              "      background-color: #E2EBFA;\n",
              "      box-shadow: 0px 1px 2px rgba(60, 64, 67, 0.3), 0px 1px 3px 1px rgba(60, 64, 67, 0.15);\n",
              "      fill: #174EA6;\n",
              "    }\n",
              "\n",
              "    [theme=dark] .colab-df-convert {\n",
              "      background-color: #3B4455;\n",
              "      fill: #D2E3FC;\n",
              "    }\n",
              "\n",
              "    [theme=dark] .colab-df-convert:hover {\n",
              "      background-color: #434B5C;\n",
              "      box-shadow: 0px 1px 3px 1px rgba(0, 0, 0, 0.15);\n",
              "      filter: drop-shadow(0px 1px 2px rgba(0, 0, 0, 0.3));\n",
              "      fill: #FFFFFF;\n",
              "    }\n",
              "  </style>\n",
              "\n",
              "      <script>\n",
              "        const buttonEl =\n",
              "          document.querySelector('#df-acc98572-27c8-4854-ba75-be4113522723 button.colab-df-convert');\n",
              "        buttonEl.style.display =\n",
              "          google.colab.kernel.accessAllowed ? 'block' : 'none';\n",
              "\n",
              "        async function convertToInteractive(key) {\n",
              "          const element = document.querySelector('#df-acc98572-27c8-4854-ba75-be4113522723');\n",
              "          const dataTable =\n",
              "            await google.colab.kernel.invokeFunction('convertToInteractive',\n",
              "                                                     [key], {});\n",
              "          if (!dataTable) return;\n",
              "\n",
              "          const docLinkHtml = 'Like what you see? Visit the ' +\n",
              "            '<a target=\"_blank\" href=https://colab.research.google.com/notebooks/data_table.ipynb>data table notebook</a>'\n",
              "            + ' to learn more about interactive tables.';\n",
              "          element.innerHTML = '';\n",
              "          dataTable['output_type'] = 'display_data';\n",
              "          await google.colab.output.renderOutput(dataTable, element);\n",
              "          const docLink = document.createElement('div');\n",
              "          docLink.innerHTML = docLinkHtml;\n",
              "          element.appendChild(docLink);\n",
              "        }\n",
              "      </script>\n",
              "    </div>\n",
              "  </div>\n",
              "  "
            ],
            "text/plain": [
              "                      title release_date  ...  War Western\n",
              "movie_id                                  ...             \n",
              "1          Toy Story (1995)  01-Jan-1995  ...    0       0\n",
              "2          GoldenEye (1995)  01-Jan-1995  ...    0       0\n",
              "3         Four Rooms (1995)  01-Jan-1995  ...    0       0\n",
              "4         Get Shorty (1995)  01-Jan-1995  ...    0       0\n",
              "5            Copycat (1995)  01-Jan-1995  ...    0       0\n",
              "\n",
              "[5 rows x 23 columns]"
            ]
          },
          "metadata": {},
          "execution_count": 4
        }
      ]
    },
    {
      "cell_type": "markdown",
      "source": [
        "## 평균 평점을 기준으로 상위 5개의 영화"
      ],
      "metadata": {
        "id": "9bkPetEdIM6y"
      }
    },
    {
      "cell_type": "code",
      "source": [
        "# 사용자 - 영화 - 평점\n",
        "r_cols = ['user_id', 'movie_id', 'rating', 'timestamp'] # timestamp : 평가한 연도/날짜/시간을 숫자로 변환\n",
        "ratings = pd.read_csv('u.data', sep='\\t', names=r_cols, encoding='latin-1') \n",
        "ratings = ratings.set_index('user_id')         \n",
        "ratings.head()"
      ],
      "metadata": {
        "colab": {
          "base_uri": "https://localhost:8080/",
          "height": 238
        },
        "id": "A7QmSahVGE7F",
        "outputId": "09eb4bb1-ac97-433e-fd40-f64e96c07dac"
      },
      "execution_count": null,
      "outputs": [
        {
          "output_type": "execute_result",
          "data": {
            "text/html": [
              "\n",
              "  <div id=\"df-b048de12-5a91-4d6c-882a-59c6177f0eb0\">\n",
              "    <div class=\"colab-df-container\">\n",
              "      <div>\n",
              "<style scoped>\n",
              "    .dataframe tbody tr th:only-of-type {\n",
              "        vertical-align: middle;\n",
              "    }\n",
              "\n",
              "    .dataframe tbody tr th {\n",
              "        vertical-align: top;\n",
              "    }\n",
              "\n",
              "    .dataframe thead th {\n",
              "        text-align: right;\n",
              "    }\n",
              "</style>\n",
              "<table border=\"1\" class=\"dataframe\">\n",
              "  <thead>\n",
              "    <tr style=\"text-align: right;\">\n",
              "      <th></th>\n",
              "      <th>movie_id</th>\n",
              "      <th>rating</th>\n",
              "      <th>timestamp</th>\n",
              "    </tr>\n",
              "    <tr>\n",
              "      <th>user_id</th>\n",
              "      <th></th>\n",
              "      <th></th>\n",
              "      <th></th>\n",
              "    </tr>\n",
              "  </thead>\n",
              "  <tbody>\n",
              "    <tr>\n",
              "      <th>196</th>\n",
              "      <td>242</td>\n",
              "      <td>3</td>\n",
              "      <td>881250949</td>\n",
              "    </tr>\n",
              "    <tr>\n",
              "      <th>186</th>\n",
              "      <td>302</td>\n",
              "      <td>3</td>\n",
              "      <td>891717742</td>\n",
              "    </tr>\n",
              "    <tr>\n",
              "      <th>22</th>\n",
              "      <td>377</td>\n",
              "      <td>1</td>\n",
              "      <td>878887116</td>\n",
              "    </tr>\n",
              "    <tr>\n",
              "      <th>244</th>\n",
              "      <td>51</td>\n",
              "      <td>2</td>\n",
              "      <td>880606923</td>\n",
              "    </tr>\n",
              "    <tr>\n",
              "      <th>166</th>\n",
              "      <td>346</td>\n",
              "      <td>1</td>\n",
              "      <td>886397596</td>\n",
              "    </tr>\n",
              "  </tbody>\n",
              "</table>\n",
              "</div>\n",
              "      <button class=\"colab-df-convert\" onclick=\"convertToInteractive('df-b048de12-5a91-4d6c-882a-59c6177f0eb0')\"\n",
              "              title=\"Convert this dataframe to an interactive table.\"\n",
              "              style=\"display:none;\">\n",
              "        \n",
              "  <svg xmlns=\"http://www.w3.org/2000/svg\" height=\"24px\"viewBox=\"0 0 24 24\"\n",
              "       width=\"24px\">\n",
              "    <path d=\"M0 0h24v24H0V0z\" fill=\"none\"/>\n",
              "    <path d=\"M18.56 5.44l.94 2.06.94-2.06 2.06-.94-2.06-.94-.94-2.06-.94 2.06-2.06.94zm-11 1L8.5 8.5l.94-2.06 2.06-.94-2.06-.94L8.5 2.5l-.94 2.06-2.06.94zm10 10l.94 2.06.94-2.06 2.06-.94-2.06-.94-.94-2.06-.94 2.06-2.06.94z\"/><path d=\"M17.41 7.96l-1.37-1.37c-.4-.4-.92-.59-1.43-.59-.52 0-1.04.2-1.43.59L10.3 9.45l-7.72 7.72c-.78.78-.78 2.05 0 2.83L4 21.41c.39.39.9.59 1.41.59.51 0 1.02-.2 1.41-.59l7.78-7.78 2.81-2.81c.8-.78.8-2.07 0-2.86zM5.41 20L4 18.59l7.72-7.72 1.47 1.35L5.41 20z\"/>\n",
              "  </svg>\n",
              "      </button>\n",
              "      \n",
              "  <style>\n",
              "    .colab-df-container {\n",
              "      display:flex;\n",
              "      flex-wrap:wrap;\n",
              "      gap: 12px;\n",
              "    }\n",
              "\n",
              "    .colab-df-convert {\n",
              "      background-color: #E8F0FE;\n",
              "      border: none;\n",
              "      border-radius: 50%;\n",
              "      cursor: pointer;\n",
              "      display: none;\n",
              "      fill: #1967D2;\n",
              "      height: 32px;\n",
              "      padding: 0 0 0 0;\n",
              "      width: 32px;\n",
              "    }\n",
              "\n",
              "    .colab-df-convert:hover {\n",
              "      background-color: #E2EBFA;\n",
              "      box-shadow: 0px 1px 2px rgba(60, 64, 67, 0.3), 0px 1px 3px 1px rgba(60, 64, 67, 0.15);\n",
              "      fill: #174EA6;\n",
              "    }\n",
              "\n",
              "    [theme=dark] .colab-df-convert {\n",
              "      background-color: #3B4455;\n",
              "      fill: #D2E3FC;\n",
              "    }\n",
              "\n",
              "    [theme=dark] .colab-df-convert:hover {\n",
              "      background-color: #434B5C;\n",
              "      box-shadow: 0px 1px 3px 1px rgba(0, 0, 0, 0.15);\n",
              "      filter: drop-shadow(0px 1px 2px rgba(0, 0, 0, 0.3));\n",
              "      fill: #FFFFFF;\n",
              "    }\n",
              "  </style>\n",
              "\n",
              "      <script>\n",
              "        const buttonEl =\n",
              "          document.querySelector('#df-b048de12-5a91-4d6c-882a-59c6177f0eb0 button.colab-df-convert');\n",
              "        buttonEl.style.display =\n",
              "          google.colab.kernel.accessAllowed ? 'block' : 'none';\n",
              "\n",
              "        async function convertToInteractive(key) {\n",
              "          const element = document.querySelector('#df-b048de12-5a91-4d6c-882a-59c6177f0eb0');\n",
              "          const dataTable =\n",
              "            await google.colab.kernel.invokeFunction('convertToInteractive',\n",
              "                                                     [key], {});\n",
              "          if (!dataTable) return;\n",
              "\n",
              "          const docLinkHtml = 'Like what you see? Visit the ' +\n",
              "            '<a target=\"_blank\" href=https://colab.research.google.com/notebooks/data_table.ipynb>data table notebook</a>'\n",
              "            + ' to learn more about interactive tables.';\n",
              "          element.innerHTML = '';\n",
              "          dataTable['output_type'] = 'display_data';\n",
              "          await google.colab.output.renderOutput(dataTable, element);\n",
              "          const docLink = document.createElement('div');\n",
              "          docLink.innerHTML = docLinkHtml;\n",
              "          element.appendChild(docLink);\n",
              "        }\n",
              "      </script>\n",
              "    </div>\n",
              "  </div>\n",
              "  "
            ],
            "text/plain": [
              "         movie_id  rating  timestamp\n",
              "user_id                             \n",
              "196           242       3  881250949\n",
              "186           302       3  891717742\n",
              "22            377       1  878887116\n",
              "244            51       2  880606923\n",
              "166           346       1  886397596"
            ]
          },
          "metadata": {},
          "execution_count": 5
        }
      ]
    },
    {
      "cell_type": "markdown",
      "source": [
        "### Best-Seller"
      ],
      "metadata": {
        "id": "XOD-hY-kJuEr"
      }
    },
    {
      "cell_type": "code",
      "source": [
        "# Best-Seller 추천\n",
        "def recom_movie1(n_items):\n",
        "    movie_sort = movie_mean.sort_values(ascending=False)[:n_items]\n",
        "    recom_movies = movies.loc[movie_sort.index]\n",
        "    recommendations = recom_movies['title']\n",
        "    return recommendations\n",
        "\n",
        "def recom_movie2(n_items): # recom_movie1 함수와 똑같은 기능\n",
        "    return movies.loc[movie_mean.sort_values(ascending=False)[:n_items].index]['title']\n",
        "\n",
        "movie_mean = ratings.groupby(['movie_id'])['rating'].mean()\n",
        "\n",
        "print(recom_movie1(5))\n",
        "print(recom_movie2(5))"
      ],
      "metadata": {
        "colab": {
          "base_uri": "https://localhost:8080/"
        },
        "id": "kHjqDoI2GhUM",
        "outputId": "3bf03192-7a68-40f4-ba0f-330c24a9cad1"
      },
      "execution_count": null,
      "outputs": [
        {
          "output_type": "stream",
          "name": "stdout",
          "text": [
            "movie_id\n",
            "814                         Great Day in Harlem, A (1994)\n",
            "1599                        Someone Else's America (1995)\n",
            "1201           Marlene Dietrich: Shadow and Light (1996) \n",
            "1122                       They Made Me a Criminal (1939)\n",
            "1653    Entertaining Angels: The Dorothy Day Story (1996)\n",
            "Name: title, dtype: object\n",
            "movie_id\n",
            "814                         Great Day in Harlem, A (1994)\n",
            "1599                        Someone Else's America (1995)\n",
            "1201           Marlene Dietrich: Shadow and Light (1996) \n",
            "1122                       They Made Me a Criminal (1939)\n",
            "1653    Entertaining Angels: The Dorothy Day Story (1996)\n",
            "Name: title, dtype: object\n"
          ]
        }
      ]
    },
    {
      "cell_type": "markdown",
      "source": [
        "## 정확도 측정"
      ],
      "metadata": {
        "id": "Q1lIN2AXHWRM"
      }
    },
    {
      "cell_type": "markdown",
      "source": [
        "일반적으로 RMSE 사용"
      ],
      "metadata": {
        "id": "KlPLB4DSIbCj"
      }
    },
    {
      "cell_type": "code",
      "source": [
        "from sklearn.metrics import mean_squared_error\n",
        "import numpy as np\n",
        "\n",
        "def RMSE(y_true, y_pred):\n",
        "    return mean_squared_error(y_true, y_pred)**2\n",
        "\n",
        "rmse = []\n",
        "for user in set(ratings.index):\n",
        "    y_true = ratings.loc[user]['rating'] # 각 사용자가 평가한 모든 영화의 평점\n",
        "    y_pred = movie_mean[ratings.loc[user]['movie_id']] # 각 사용자가 평가한 영화의 평균 평점\n",
        "    accuracy = RMSE(y_true, y_pred) # 사용자 한 명에 대한 RMSE\n",
        "    rmse.append(accuracy)\n",
        "\n",
        "print(np.mean(rmse))    "
      ],
      "metadata": {
        "colab": {
          "base_uri": "https://localhost:8080/"
        },
        "id": "dhE4tidMIiTk",
        "outputId": "4cc4267c-ca8e-41dd-c55c-d669520cd397"
      },
      "execution_count": null,
      "outputs": [
        {
          "output_type": "stream",
          "name": "stdout",
          "text": [
            "1.3405556717741551\n"
          ]
        }
      ]
    },
    {
      "cell_type": "markdown",
      "source": [
        "## 사용자 집단별 추천"
      ],
      "metadata": {
        "id": "Z1Ep995OJSm7"
      }
    },
    {
      "cell_type": "code",
      "source": [
        "# 데이터 불러오기\n",
        "u_cols = ['user_id', 'age', 'sex', 'occupation', 'zip_code']\n",
        "users = pd.read_csv('u.user', sep='|', names=u_cols, encoding='latin-1')\n",
        "\n",
        "i_cols = ['movie_id', 'title', 'release_date', 'video_release_date', 'IMDB_URL',\n",
        "          'unknown', 'Action', 'Adventure', 'Animation', 'Children\\s', 'Comedy',\n",
        "          'Crime', 'Documentary', 'Drama', 'Fantasy', 'Film-Noir', 'Horror',\n",
        "          'Musical', 'Mystery', 'Romance', 'Sci-Fi', 'Thriller', 'War', 'Western']\n",
        "movies = pd.read_csv('u.item', sep='|', names=i_cols, encoding='latin-1') \n",
        "\n",
        "r_cols = ['user_id', 'movie_id', 'rating', 'timestamp']\n",
        "ratings = pd.read_csv('u.data', sep='\\t', names=r_cols, encoding='latin-1') "
      ],
      "metadata": {
        "id": "ERrrv-GkLb7k"
      },
      "execution_count": null,
      "outputs": []
    },
    {
      "cell_type": "code",
      "source": [
        "# timestamp 제거\n",
        "ratings = ratings.drop('timestamp', axis=1)\n",
        "\n",
        "# movie ID와 title 빼고 다른 데이터 제거\n",
        "movies = movies[['movie_id', 'title']]\n",
        "\n",
        "# train, test set split\n",
        "from sklearn.model_selection import train_test_split\n",
        "x = ratings.copy() # 원본을 보존하기 위해\n",
        "y = ratings['user_id'] # stratify=y : 각 user_id별로 train/test 비율 동일하게 유지\n",
        "x_train, x_test, y_train, y_test = train_test_split(x, y, test_size=0.25, stratify=y)"
      ],
      "metadata": {
        "id": "cKNNREXXJrfs"
      },
      "execution_count": null,
      "outputs": []
    },
    {
      "cell_type": "code",
      "source": [
        "# 정확도(RMSE) 계산\n",
        "def RMSE(y_true, y_pred):\n",
        "    return mean_squared_error(y_true, y_pred)**2\n",
        "\n",
        "# 모델별 RMSE 계산\n",
        "def score(model):\n",
        "    id_pairs = zip(x_test['user_id'], x_test['movie_id']) # 사용자와 영화 짝 맞추기\n",
        "    y_pred = np.array([model(user, movie) for (user, movie) in id_pairs])\n",
        "    y_true = np.array(x_test['rating'])\n",
        "    return RMSE(y_true, y_pred)\n",
        "\n",
        "# train 데이터로 Full Matrix 구하기\n",
        "# Full Matrix : 사용자와 영화를 각 차원으로 하는 전체 array\n",
        "# rating 데이터(사용자-영화 조합)는 전체 가능한 조합 중 일부\n",
        "# 평가하지 않은 사용자-영화 조합은 NaN\n",
        "rating_matrix = x_train.pivot(index='user_id', columns='movie_id', values='rating')"
      ],
      "metadata": {
        "id": "M-SnvKAoLAA8"
      },
      "execution_count": null,
      "outputs": []
    },
    {
      "cell_type": "code",
      "source": [
        "rating_matrix.shape\n",
        "# (943, 1647) --> 사용자 : 943, 아이템 수 : 1647"
      ],
      "metadata": {
        "colab": {
          "base_uri": "https://localhost:8080/"
        },
        "id": "J2nXDMhENgHL",
        "outputId": "f24ac5e5-4197-4555-f018-837d4e548e00"
      },
      "execution_count": null,
      "outputs": [
        {
          "output_type": "execute_result",
          "data": {
            "text/plain": [
              "(943, 1647)"
            ]
          },
          "metadata": {},
          "execution_count": 17
        }
      ]
    },
    {
      "cell_type": "code",
      "source": [
        "# 전체 평균으로 예측치를 계산하는 모델\n",
        "def best_seller(user_id, movie_id):\n",
        "    # train에는 없는데 test에 있는 영화가 존재할 수 있어서 try문 사용\n",
        "    try:\n",
        "        rating = train_mean[movie_id]\n",
        "    except:\n",
        "        rating = 3.0 # 3.0 : 기본값\n",
        "    return rating\n",
        "\n",
        "train_mean = x_train.groupby(['movie_id'])['rating'].mean()\n",
        "score(best_seller)"
      ],
      "metadata": {
        "colab": {
          "base_uri": "https://localhost:8080/"
        },
        "id": "pozGb2j5NjPS",
        "outputId": "bf049932-19b3-46bb-d30b-59b26ea515e0"
      },
      "execution_count": null,
      "outputs": [
        {
          "output_type": "execute_result",
          "data": {
            "text/plain": [
              "1.1250019143716001"
            ]
          },
          "metadata": {},
          "execution_count": 18
        }
      ]
    },
    {
      "cell_type": "code",
      "source": [
        "# Full Matrix를 사용자 데이터와 merge\n",
        "merged_ratings = pd.merge(x_train, users) # pd.merge : 동일한 이름을 가진 key가 있으면 그것을 기준으로 merge --> user_id\n",
        "users = users.set_index('user_id')\n",
        "\n",
        "# gender별 평점의 평균 계산\n",
        "g_mean = merged_ratings[['movie_id', 'sex', 'rating']].groupby(['movie_id', 'sex'])['rating'].mean()"
      ],
      "metadata": {
        "id": "lEr3Mt9ZOVUU"
      },
      "execution_count": null,
      "outputs": []
    },
    {
      "cell_type": "code",
      "source": [
        "# gender별 평균을 예측치로 돌려주는 함수\n",
        "def cf_gender(user_id, movie_id):\n",
        "    if movie_id in rating_matrix:\n",
        "        gender = users.loc[user_id]['sex']\n",
        "        if gender in g_mean[movie_id]:\n",
        "            gender_rating = g_mean[movie_id][gender]\n",
        "        else:\n",
        "            gender_rating = 3.0\n",
        "    else:\n",
        "        gender_rating = 3.0\n",
        "    return gender_rating\n",
        "\n",
        "score(cf_gender)    "
      ],
      "metadata": {
        "colab": {
          "base_uri": "https://localhost:8080/"
        },
        "id": "JlmMJc4MPFar",
        "outputId": "69bd238f-05a1-407c-d566-ded0925fd926"
      },
      "execution_count": null,
      "outputs": [
        {
          "output_type": "execute_result",
          "data": {
            "text/plain": [
              "1.160695008185012"
            ]
          },
          "metadata": {},
          "execution_count": 20
        }
      ]
    },
    {
      "cell_type": "markdown",
      "source": [
        "# 3장. 협업 필터링(CF) 추천 시스템"
      ],
      "metadata": {
        "id": "txXr3rMnPtjk"
      }
    },
    {
      "cell_type": "markdown",
      "source": [
        "## 기본 CF 알고리즘"
      ],
      "metadata": {
        "id": "2On1gVTeE1yP"
      }
    },
    {
      "cell_type": "code",
      "source": [
        "import pandas as pd\n",
        "from sklearn.metrics.pairwise import cosine_similarity # 코사인 유사도 계산\n",
        "\n",
        "matrix_dummy = rating_matrix.copy().fillna(0) # 코사인 계산 시 NaN값이 있으면 에러 발생\n",
        "user_similarity = cosine_similarity(matrix_dummy, matrix_dummy) # 모든 사용자 간의 코사인 유사도 계산\n",
        "user_similarity = pd.DataFrame(user_similarity,\n",
        "                               index=rating_matrix.index,\n",
        "                               columns=rating_matrix.index)"
      ],
      "metadata": {
        "id": "jXAKyW0FCS5b"
      },
      "execution_count": 67,
      "outputs": []
    },
    {
      "cell_type": "code",
      "source": [
        "# 주어진 영화(movie_id)의 가중평균 rating을 계산하는 함수\n",
        "# 가중치 : 주어진 사용자와 다른 사용자 간의 유사도\n",
        "def CF_simple(user_id, movie_id):\n",
        "    if movie_id in rating_matrix:\n",
        "        \n",
        "        # 주어진 사용자와 다른 사용자 간의 유사도 복사\n",
        "        sim_scores = user_similarity[user_id].copy()\n",
        "\n",
        "        #주어진 영화에 대한 모든 사용자의 평점 복사\n",
        "        movie_ratings = rating_matrix[movie_id].copy()\n",
        "\n",
        "        # 주어진 영화에 대해 평가를 하지 않은 사용자의 위치 확인\n",
        "        # --> 가중평균 계산에서 제외시키기 위해\n",
        "        none_rating_idx = movie_ratings[movie_ratings.isnull()].index\n",
        "\n",
        "        # 평가하지 않은 사람(NaN) 제거\n",
        "        movie_ratings = movie_ratings.dropna()\n",
        "\n",
        "        # 주어진 영화를 평가하지 않은 사람 제거\n",
        "        sim_scores = sim_scores.drop(none_rating_idx)\n",
        "\n",
        "        # 주어진 영화를 평가한 각 사용자에 대해 평점을 유사도로 가중평균한 예측치 구하기\n",
        "        mean_rating = np.dot(sim_scores, movie_ratings) / sim_scores.sum()\n",
        "    else:\n",
        "        mean_rating = 3.0\n",
        "    return mean_rating\n",
        "\n",
        "score(CF_simple) # 정확도 계산"
      ],
      "metadata": {
        "colab": {
          "base_uri": "https://localhost:8080/"
        },
        "id": "GI3fwTFJC59T",
        "outputId": "37bcc61d-324d-48a5-8efe-2cf6fe7b5707"
      },
      "execution_count": 68,
      "outputs": [
        {
          "output_type": "execute_result",
          "data": {
            "text/plain": [
              "1.096022411657435"
            ]
          },
          "metadata": {},
          "execution_count": 68
        }
      ]
    },
    {
      "cell_type": "markdown",
      "source": [
        "## 이웃을 고려한 CF"
      ],
      "metadata": {
        "id": "mQAOAO5YEs68"
      }
    },
    {
      "cell_type": "markdown",
      "source": [
        "이웃을 선택하는 기준  \n",
        "1. KNN : 이웃의 크기를 미리 정해놓고 추천 대상 사용자와 가장 유사한 K명 선택  \n",
        "2. Thresholding : 유사도의 기준을 정해놓고 이 기준을 충족시키는 사용자 선택\n"
      ],
      "metadata": {
        "id": "qc8vNZrWE8vB"
      }
    },
    {
      "cell_type": "code",
      "source": [
        "def score(model, neighbor_size=0):\n",
        "    id_pairs = zip(x_test['user_id'], x_test['movie_id']) # 사용자와 영화 짝 맞추기\n",
        "    y_pred = np.array([model(user, movie) for (user, movie) in id_pairs])\n",
        "    y_true = np.array(x_test['rating'])\n",
        "    return RMSE(y_true, y_pred)"
      ],
      "metadata": {
        "id": "_X3PHcpKIGTm"
      },
      "execution_count": 70,
      "outputs": []
    },
    {
      "cell_type": "code",
      "source": [
        "# Neighbor Size를 정해서 예측치 계산\n",
        "def cf_knn(user_id, movie_id, neighbor_size=0):\n",
        "    if movie_id in rating_matrix:\n",
        "        sim_scores = user_similarity[user_id].copy()\n",
        "        movie_ratings = rating_matrix[movie_id].copy()\n",
        "        none_rating_idx = movie_ratings[movie_ratings.isnull()].index\n",
        "        movie_ratings = movie_ratings.dropna()\n",
        "        sim_scores = sim_scores.drop(none_rating_idx)\n",
        "\n",
        "        # Neighbor Size가 지정되지 않은 경우\n",
        "        if neighbor_size == 0:\n",
        "            mean_rating = np.dot(sim_scores, movie_ratings) / sim_scores.sum()\n",
        "        else: # Neighbor Size가 지정된 경우\n",
        "            if len(sim_scores) > 1:\n",
        "                # 평가한 사용자 수가 너무 적으면 계산에 문제가 생기기 때문에\n",
        "                # 최소 2명 이상인 경우만 계산\n",
        "\n",
        "                # 지정된 neighbor_size보다 계산 가능한 이웃의 수가 더 작은 경우도 있음\n",
        "                # 그래서 둘 중 더 작은 것을 이웃의 크기로 선택\n",
        "                neighbor_size = min(neighbor_size, len(sim_scores))\n",
        "\n",
        "                sim_scores = np.array(sim_scores)\n",
        "                movie_ratings = np.array(movie_ratings)\n",
        "                user_idx = np.argsort(sim_scores)\n",
        "\n",
        "                # 가장 유사도가 높은 k명의 사용자 선택\n",
        "                sim_scores = sim_scores[user_idx][-neighbor_size:]\n",
        "\n",
        "                # 선정된 k명의 사용자의 영화에 대한 평점 추출\n",
        "                movie_ratings = movie_ratings[user_idx][-neighbor_size:]\n",
        "\n",
        "                # 추출한 평점을 유사도로 가중한 평점평균 구하기\n",
        "                mean_rating = np.dot(sim_scores, movie_ratings) / sim_scores.sum()\n",
        "            else:\n",
        "                mean_rating = 3.0\n",
        "    else:\n",
        "        mean_rating = 3.0\n",
        "    return mean_rating\n",
        "\n",
        "score(cf_knn, neighbor_size=30)    "
      ],
      "metadata": {
        "colab": {
          "base_uri": "https://localhost:8080/"
        },
        "id": "xHXCg9A9FeBc",
        "outputId": "c3a30847-c430-4e6a-a73a-d711479a9695"
      },
      "execution_count": 71,
      "outputs": [
        {
          "output_type": "execute_result",
          "data": {
            "text/plain": [
              "1.096022411657435"
            ]
          },
          "metadata": {},
          "execution_count": 71
        }
      ]
    },
    {
      "cell_type": "markdown",
      "source": [
        "## 전체 데이터로 Full Matrix, Cosine Similarity 구하기"
      ],
      "metadata": {
        "id": "1HKu4ir7IAKi"
      }
    },
    {
      "cell_type": "code",
      "source": [
        "rating_matirx = ratings.pivot_table(values='rating', index='user_id', columns='movie_id')\n",
        "\n",
        "matrix_dummy = rating_matrix.copy().fillna(0)\n",
        "user_similarity = cosine_similarity(matrix_dummy, matrix_dummy)\n",
        "user_similarity = pd.DataFrame(user_similarity,\n",
        "                               index=rating_matrix.index,\n",
        "                               columns=rating_matrix.index)\n",
        "\n",
        "def recom_movie(user_id, n_items, neighbor_size=30):\n",
        "    user_movie = rating_matrix.loc[user_id].copy()\n",
        "    for movie in rating_matrix:\n",
        "        if pd.notnull(user_movie.loc[movie]):\n",
        "            # 영화 평점이 null(NaN)이 아닌 경우는 이미 평가한 경우이므로\n",
        "            # 추천 리스트에서 제외하기 위해 예상 평점을 0으로\n",
        "            user_movie.loc[movie] = 0\n",
        "        else:\n",
        "            user_movie.loc[movie] = cf_knn(user_id, movie, neighbor_size)\n",
        "    movie_sort =  user_movie.sort_values(ascending=False)[:n_items]\n",
        "    recom_movies = movies.loc[movie_sort.index]\n",
        "    recommendations = recom_movies['title']\n",
        "    return recommendations\n",
        "\n",
        "recom_movie(user_id=2, n_items=5, neighbor_size=30)    "
      ],
      "metadata": {
        "colab": {
          "base_uri": "https://localhost:8080/"
        },
        "id": "0Z0qor29IfxK",
        "outputId": "71ef1459-9cbc-478b-d44f-40bb3d147a9a"
      },
      "execution_count": 72,
      "outputs": [
        {
          "output_type": "execute_result",
          "data": {
            "text/plain": [
              "movie_id\n",
              "1500    Prisoner of the Mountains (Kavkazsky Plennik) ...\n",
              "1189                              That Old Feeling (1997)\n",
              "1293                     Ayn Rand: A Sense of Life (1997)\n",
              "851                              Bloody Child, The (1996)\n",
              "1405                         When Night Is Falling (1995)\n",
              "Name: title, dtype: object"
            ]
          },
          "metadata": {},
          "execution_count": 72
        }
      ]
    },
    {
      "cell_type": "markdown",
      "source": [
        "## 최적의 이웃 크기 결정"
      ],
      "metadata": {
        "id": "ydGt_VXZU96J"
      }
    },
    {
      "cell_type": "code",
      "source": [
        "rating_matirx = ratings.pivot_table(values='rating', index='user_id', columns='movie_id')\n",
        "\n",
        "matrix_dummy = rating_matrix.copy().fillna(0)\n",
        "user_similarity = cosine_similarity(matrix_dummy, matrix_dummy)\n",
        "user_similarity = pd.DataFrame(user_similarity,\n",
        "                               index=rating_matrix.index,\n",
        "                               columns=rating_matrix.index)\n",
        "\n",
        "for neighbor_size in [10, 20, 30, 40, 50, 60]:\n",
        "    print('Neighbor Size = %d : RMSE = %.4f' % (neighbor_size, score(cf_knn, neighbor_size)))"
      ],
      "metadata": {
        "colab": {
          "base_uri": "https://localhost:8080/"
        },
        "id": "HdTd4Z-6VXOh",
        "outputId": "ade441d3-6fa2-44fd-dd4f-634bc95db5ca"
      },
      "execution_count": 73,
      "outputs": [
        {
          "output_type": "stream",
          "name": "stdout",
          "text": [
            "Neighbor Size = 10 : RMSE = 1.0960\n",
            "Neighbor Size = 20 : RMSE = 1.0960\n",
            "Neighbor Size = 30 : RMSE = 1.0960\n",
            "Neighbor Size = 40 : RMSE = 1.0960\n",
            "Neighbor Size = 50 : RMSE = 1.0960\n",
            "Neighbor Size = 60 : RMSE = 1.0960\n"
          ]
        }
      ]
    },
    {
      "cell_type": "markdown",
      "source": [
        "## 사용자의 평가경향을 고려한 CF"
      ],
      "metadata": {
        "id": "BD1iFwL0bSDe"
      }
    },
    {
      "cell_type": "code",
      "source": [
        "# train 데이터의 user의 rating 평균과 영화의 평점편차 계산 \n",
        "rating_mean = rating_matrix.mean(axis=1)\n",
        "rating_bias = (rating_matrix.T - rating_mean).T\n",
        "\n",
        "def CF_knn_bias(user_id, movie_id, neighbor_size=0):\n",
        "    if movie_id in rating_bias:\n",
        "        # 현 user와 다른 사용자 간의 유사도 가져오기\n",
        "        sim_scores = user_similarity[user_id].copy()\n",
        "        # 현 movie의 평점편차 가져오기\n",
        "        movie_ratings = rating_bias[movie_id].copy()\n",
        "        # 현 movie에 대한 rating이 없는 사용자 삭제\n",
        "        none_rating_idx = movie_ratings[movie_ratings.isnull()].index\n",
        "        movie_ratings = movie_ratings.drop(none_rating_idx)\n",
        "        sim_scores = sim_scores.drop(none_rating_idx)\n",
        "##### (2) Neighbor size가 지정되지 않은 경우        \n",
        "        if neighbor_size == 0:\n",
        "            # 편차로 예측값(편차 예측값) 계산\n",
        "            prediction = np.dot(sim_scores, movie_ratings) / sim_scores.sum()\n",
        "            # 편차 예측값에 현 사용자의 평균 더하기\n",
        "            prediction = prediction + rating_mean[user_id]\n",
        "##### (3) Neighbor size가 지정된 경우            \n",
        "        else:\n",
        "            # 해당 영화를 평가한 사용자가 최소 2명이 되는 경우에만 계산            \n",
        "            if len(sim_scores) > 1:\n",
        "                # 지정된 neighbor size 값과 해당 영화를 평가한 총사용자 수 중 작은 것으로 결정\n",
        "                neighbor_size = min(neighbor_size, len(sim_scores))\n",
        "                # array로 바꾸기 (argsort를 사용하기 위함)\n",
        "                sim_scores = np.array(sim_scores)\n",
        "                movie_ratings = np.array(movie_ratings)\n",
        "                # 유사도를 순서대로 정렬\n",
        "                user_idx = np.argsort(sim_scores)\n",
        "                # 유사도와 rating을 neighbor size만큼 받기\n",
        "                sim_scores = sim_scores[user_idx][-neighbor_size:]\n",
        "                movie_ratings = movie_ratings[user_idx][-neighbor_size:]\n",
        "                # 편차로 예측치 계산\n",
        "                prediction = np.dot(sim_scores, movie_ratings) / sim_scores.sum()\n",
        "                # 예측값에 현 사용자의 평균 더하기\n",
        "                prediction = prediction + rating_mean[user_id]\n",
        "            else:\n",
        "                prediction = rating_mean[user_id]\n",
        "    else:\n",
        "        prediction = rating_mean[user_id]\n",
        "    return prediction\n",
        "\n",
        "score(CF_knn_bias, 30)\n"
      ],
      "metadata": {
        "colab": {
          "base_uri": "https://localhost:8080/"
        },
        "id": "Dig7N-adbQa-",
        "outputId": "28cae0a6-8011-4740-d4a7-a3727163f3bd"
      },
      "execution_count": 75,
      "outputs": [
        {
          "output_type": "execute_result",
          "data": {
            "text/plain": [
              "0.8276704484142371"
            ]
          },
          "metadata": {},
          "execution_count": 75
        }
      ]
    },
    {
      "cell_type": "markdown",
      "source": [
        "## 그 외의 CF 정확도 개선 방법"
      ],
      "metadata": {
        "id": "EUmcJ_TfbVee"
      }
    },
    {
      "cell_type": "code",
      "source": [
        "# train 데이터의 user의 rating 평균과 영화의 평점편차 계산 \n",
        "rating_mean = rating_matrix.mean(axis=1)\n",
        "rating_bias = (rating_matrix.T - rating_mean).T\n",
        "\n",
        "##### (1)\n",
        "\n",
        "# 사용자별 공통 평가 수 계산\n",
        "rating_binary1 = np.array((rating_matrix > 0).astype(float))\n",
        "rating_binary2 = rating_binary1.T\n",
        "counts = np.dot(rating_binary1, rating_binary2)\n",
        "counts = pd.DataFrame(counts, index=rating_matrix.index, columns=rating_matrix.index).fillna(0)\n",
        "\n",
        "def CF_knn_bias_sig(user_id, movie_id, neighbor_size=0):\n",
        "    if movie_id in rating_bias:\n",
        "        # 현 user와 다른 사용자 간의 유사도 가져오기\n",
        "        sim_scores = user_similarity[user_id]\n",
        "        # 현 movie의 평점편차 가져오기\n",
        "        movie_ratings = rating_bias[movie_id]\n",
        "        # 현 movie에 대한 rating이 없는 사용자 표시\n",
        "        no_rating = movie_ratings.isnull()\n",
        "        # 현 사용자와 다른 사용자간 공통 평가 아이템 수 가져오기 \n",
        "        common_counts = counts[user_id]\n",
        "        # 공통으로 평가한 영화의 수가 SIG_LEVEL보다 낮은 사용자 표시\n",
        "        low_significance = common_counts < SIG_LEVEL\n",
        "        # 평가를 안 하였거나, SIG_LEVEL이 기준 이하인 user 제거\n",
        "        none_rating_idx = movie_ratings[no_rating | low_significance].index\n",
        "        movie_ratings = movie_ratings.drop(none_rating_idx)\n",
        "        sim_scores = sim_scores.drop(none_rating_idx)\n",
        "##### (2) Neighbor size가 지정되지 않은 경우        \n",
        "        if neighbor_size == 0:\n",
        "            # 편차로 예측값(편차 예측값) 계산\n",
        "            prediction = np.dot(sim_scores, movie_ratings) / sim_scores.sum()\n",
        "            # 편차 예측값에 현 사용자의 평균 더하기\n",
        "            prediction = prediction + rating_mean[user_id]\n",
        "##### (3) Neighbor size가 지정된 경우            \n",
        "        else:\n",
        "            # 해당 영화를 평가한 사용자가 최소 MIN_RATINGS 이상인 경우에만 계산            \n",
        "            if len(sim_scores) > MIN_RATINGS:\n",
        "                # 지정된 neighbor size 값과 해당 영화를 평가한 총사용자 수 중 작은 것으로 결정\n",
        "                neighbor_size = min(neighbor_size, len(sim_scores))\n",
        "                # array로 바꾸기 (argsort를 사용하기 위함)\n",
        "                sim_scores = np.array(sim_scores)\n",
        "                movie_ratings = np.array(movie_ratings)\n",
        "                # 유사도를 순서대로 정렬\n",
        "                user_idx = np.argsort(sim_scores)\n",
        "                # 유사도와 rating을 neighbor size만큼 받기\n",
        "                sim_scores = sim_scores[user_idx][-neighbor_size:]\n",
        "                movie_ratings = movie_ratings[user_idx][-neighbor_size:]\n",
        "                # 편차로 예측치 계산\n",
        "                prediction = np.dot(sim_scores, movie_ratings) / sim_scores.sum()\n",
        "                # 예측값에 현 사용자의 평균 더하기\n",
        "                prediction = prediction + rating_mean[user_id]\n",
        "            else:\n",
        "                prediction = rating_mean[user_id]\n",
        "    else:\n",
        "        prediction = rating_mean[user_id]\n",
        "    return prediction\n",
        "\n",
        "SIG_LEVEL = 3\n",
        "MIN_RATINGS = 2\n",
        "score(CF_knn_bias_sig, 30)"
      ],
      "metadata": {
        "colab": {
          "base_uri": "https://localhost:8080/"
        },
        "id": "w0Ql_z4TbLav",
        "outputId": "a24bb46f-3964-4143-d8ea-a5a67ec04591"
      },
      "execution_count": 76,
      "outputs": [
        {
          "output_type": "execute_result",
          "data": {
            "text/plain": [
              "0.8277231412003478"
            ]
          },
          "metadata": {},
          "execution_count": 76
        }
      ]
    },
    {
      "cell_type": "markdown",
      "source": [
        "## 사용자 기반 CF, 아이템 기반 CF"
      ],
      "metadata": {
        "id": "K5GfxxaNV1af"
      }
    },
    {
      "cell_type": "code",
      "source": [
        "rating_matrix_t = np.transpose(rating_matrix)\n",
        "matrix_dummy = rating_matrix_t.copy().fillna(0)\n",
        "item_similarity = cosine_similarity(matrix_dummy, matrix_dummy)\n",
        "item_similarity = pd.DataFrame(item_similarity, index=rating_matrix_t.index, columns=rating_matrix_t.index)\n",
        "\n",
        "# 주어진 영화의 (movie_id) 가중평균 rating을 계산하는 함수, \n",
        "# 가중치는 주어진 아이템과 다른 아이템 간의 유사도(item_similarity)\n",
        "def CF_IBCF(user_id, movie_id):\n",
        "    if movie_id in item_similarity: # 현재 영화가 train set에 있는지 확인\n",
        "        # 현재 영화와 다른 영화의 similarity 값 가져오기\n",
        "        sim_scores = item_similarity[movie_id]\n",
        "        # 현 사용자의 모든 rating 값 가져오기\n",
        "        user_rating = rating_matrix_t[user_id]\n",
        "        # 사용자가 평가하지 않은 영화 index 가져오기\n",
        "        non_rating_idx = user_rating[user_rating.isnull()].index\n",
        "        # 사용자가 평가하지 않은 영화 제거\n",
        "        user_rating = user_rating.dropna()\n",
        "        # 사용자가 평가하지 않은 영화의 similarity 값 제거\n",
        "        sim_scores = sim_scores.drop(non_rating_idx)\n",
        "        # 현 영화에 대한 예상 rating 계산, 가중치는 현 영화와 사용자가 평가한 영화의 유사도\n",
        "        mean_rating = np.dot(sim_scores, user_rating) / sim_scores.sum()\n",
        "    else:\n",
        "        mean_rating = 3.0\n",
        "    return mean_rating\n",
        "\n",
        "# 정확도 계산\n",
        "score(CF_IBCF)"
      ],
      "metadata": {
        "colab": {
          "base_uri": "https://localhost:8080/"
        },
        "id": "l6AcXmshYJvP",
        "outputId": "496822bb-677d-4d91-daee-afbe5e28f8fa"
      },
      "execution_count": 74,
      "outputs": [
        {
          "output_type": "execute_result",
          "data": {
            "text/plain": [
              "1.0470443304160202"
            ]
          },
          "metadata": {},
          "execution_count": 74
        }
      ]
    },
    {
      "cell_type": "code",
      "source": [
        ""
      ],
      "metadata": {
        "id": "N1ERDV_qaT_3"
      },
      "execution_count": null,
      "outputs": []
    }
  ]
}